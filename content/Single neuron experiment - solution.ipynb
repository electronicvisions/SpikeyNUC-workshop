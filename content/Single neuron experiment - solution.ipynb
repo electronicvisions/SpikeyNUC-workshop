{
 "cells": [
  {
   "cell_type": "code",
   "execution_count": null,
   "metadata": {},
   "outputs": [],
   "source": [
    "%%file single_neuron_solution.py\n",
    "\n",
    "import numpy as np\n",
    "import matplotlib.pyplot as plt\n",
    "\n",
    "import pyNN.hardware.spikey as pynn\n",
    "\n",
    "pynn.setup()\n",
    "\n",
    "# set up stimulus\n",
    "spike_train = np.linspace(0, 100, 11)\n",
    "stimulus = pynn.Population(1, pynn.SpikeSourceArray, {'spike_times': spike_train})\n",
    "\n",
    "# set up neuron and record observables\n",
    "neuron = pynn.Population(1, pynn.IF_facets_hardware1)\n",
    "\n",
    "neuron.record()\n",
    "pynn.record_v(neuron[0], \"\")\n",
    "\n",
    "# set up connections\n",
    "weight = 15 * pynn.minExcWeight()\n",
    "\n",
    "proj_stim = pynn.Projection(stimulus, neuron,\n",
    "       pynn.AllToAllConnector(weights=weight),\n",
    "       target=\"excitatory\")\n",
    "\n",
    "pynn.run(200.0)\n",
    "\n",
    "# get trace data\n",
    "time = pynn.timeMembraneOutput\n",
    "trace = pynn.membraneOutput\n",
    "\n",
    "pynn.end()\n",
    "\n",
    "# plot trace\n",
    "fig = plt.figure(figsize=(12, 6))\n",
    "ax = fig.gca()\n",
    "\n",
    "ax.set_xlabel(r\"time [\\si{\\milli\\second}]\")\n",
    "ax.set_ylabel(r\"membrane voltage [\\si{\\milli\\volt}]\")\n",
    "\n",
    "ax.plot(time, trace)\n",
    "\n",
    "fig.savefig(\"single_neuron_solution.png\")"
   ]
  },
  {
   "cell_type": "code",
   "execution_count": null,
   "metadata": {},
   "outputs": [],
   "source": [
    "from IPython.display import Image\n",
    "! srun --gres=station508 python single_neuron_solution.py\n",
    "Image(filename=\"single_neuron_solution.png\")"
   ]
  }
 ],
 "metadata": {
  "kernelspec": {
   "display_name": "SpikeyAndDlsDemo",
   "language": "python",
   "name": "spikeyanddlsdemo"
  },
  "language_info": {
   "codemirror_mode": {
    "name": "ipython",
    "version": 2
   },
   "file_extension": ".py",
   "mimetype": "text/x-python",
   "name": "python",
   "nbconvert_exporter": "python",
   "pygments_lexer": "ipython2",
   "version": "2.7.13"
  }
 },
 "nbformat": 4,
 "nbformat_minor": 2
}
