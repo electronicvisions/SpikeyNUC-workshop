{
 "cells": [
  {
   "cell_type": "code",
   "execution_count": null,
   "metadata": {},
   "outputs": [],
   "source": [
    "%%file noise.py\n",
    "\n",
    "import numpy as np\n",
    "import matplotlib.pyplot as plt\n",
    "\n",
    "import pyNN.hardware.spikey as pynn\n",
    "\n",
    "N_NEURONS = 32\n",
    "\n",
    "input_rates = np.linspace(0.0, 1000.0, 10.0)\n",
    "output_rates = np.zeros((N_NEURONS, input_rates.size))\n",
    "\n",
    "for i, input_rate in enumerate(input_rates):\n",
    "    pynn.setup(mappingOffset=0, calibSynDrivers=True)\n",
    "\n",
    "    stimulus = pynn.Population(1, pynn.SpikeSourcePoisson, {'rate': input_rate})\n",
    "\n",
    "    neurons = pynn.Population(N_NEURONS, pynn.IF_facets_hardware1)\n",
    "    neurons.record()\n",
    "\n",
    "    weight = 15 * pynn.minExcWeight()\n",
    "\n",
    "    proj_stim = pynn.Projection(stimulus, neurons,\n",
    "           pynn.AllToAllConnector(weights=weight),\n",
    "           target=\"excitatory\")\n",
    "\n",
    "    pynn.run(1000.0)\n",
    "    \n",
    "    spikes = neurons.getSpikes()\n",
    "    \n",
    "    pynn.end()\n",
    "    \n",
    "    for nrn in np.unique(spikes[:,0]):\n",
    "        mask = (spikes[:,0] == nrn)\n",
    "        output_rates[int(nrn),i] = spikes[mask,1].size\n",
    "\n",
    "fig = plt.figure(figsize=(12, 6))\n",
    "ax = fig.gca()\n",
    "\n",
    "ax.set_xlabel(r\"time [\\si{\\milli\\second}]\")\n",
    "ax.set_ylabel(r\"firing rate [\\si{\\hertz}]\")\n",
    "\n",
    "for nrn in xrange(N_NEURONS):\n",
    "    ax.plot(input_rates, output_rates[nrn,:], \".-\")\n",
    "\n",
    "fig.savefig(\"noise.png\")"
   ]
  },
  {
   "cell_type": "code",
   "execution_count": null,
   "metadata": {
    "scrolled": true
   },
   "outputs": [],
   "source": [
    "from IPython.display import Image\n",
    "! srun --gres=station508 python noise.py\n",
    "Image(filename=\"noise.png\")"
   ]
  }
 ],
 "metadata": {
  "kernelspec": {
   "display_name": "SpikeyAndDlsDemo",
   "language": "python",
   "name": "spikeyanddlsdemo"
  },
  "language_info": {
   "codemirror_mode": {
    "name": "ipython",
    "version": 2
   },
   "file_extension": ".py",
   "mimetype": "text/x-python",
   "name": "python",
   "nbconvert_exporter": "python",
   "pygments_lexer": "ipython2",
   "version": "2.7.13"
  }
 },
 "nbformat": 4,
 "nbformat_minor": 2
}
