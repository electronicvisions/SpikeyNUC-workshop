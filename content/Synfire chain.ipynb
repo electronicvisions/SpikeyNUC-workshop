{
 "cells": [
  {
   "cell_type": "code",
   "execution_count": null,
   "metadata": {},
   "outputs": [],
   "source": [
    "%%file synfire.py\n",
    "#/usr/bin/env python\n",
    "# -*- coding: utf-8 -*-\n",
    "\n",
    "import numpy as np\n",
    "import matplotlib.pyplot as plt\n",
    "\n",
    "import pyNN.hardware.spikey as pynn\n",
    "\n",
    "pynn.setup()\n",
    "\n",
    "# TODO: define network parameters (population sizes, weights, …)\n",
    "\n",
    "# TODO: set up stimulus\n",
    "\n",
    "# TODO: generate chain populations\n",
    "\n",
    "# TODO: set up connections\n",
    "\n",
    "# TODO: record observables\n",
    "\n",
    "# execute experiment\n",
    "pynn.run(1000.0)\n",
    "\n",
    "# get membrane trace…\n",
    "time = pynn.timeMembraneOutput\n",
    "trace = pynn.membraneOutput\n",
    "\n",
    "# TODO: extract output spike trains\n",
    "\n",
    "pynn.end()\n",
    "\n",
    "fig = plt.figure(figsize=(12, 6))\n",
    "grid = gs.GridSpec(2, 1, height_ratios=(5, 1))\n",
    "ax_spikes = fig.add_subplot(grid[0,0])\n",
    "ax_trace = fig.add_subplot(grid[1,0])\n",
    "\n",
    "# TODO: plot output spike trains\n",
    "\n",
    "# TODO: plot membrane voltage\n",
    "\n",
    "# set axes labels\n",
    "ax_trace.set_xlabel(r\"time [\\si{\\milli\\second}]\")\n",
    "ax_trace.set_ylabel(r\"$V_\\text{m}$ [\\si{\\milli\\volt}]\")\n",
    "ax_spikes.set_ylabel(r\"neuron index\")\n",
    "\n",
    "ax_spikes.axes.get_xaxis().set_visible(False)\n",
    "\n",
    "fig.savefig(\"synfire.png\")"
   ]
  },
  {
   "cell_type": "code",
   "execution_count": 1,
   "metadata": {
    "scrolled": false
   },
   "outputs": [
    {
     "name": "stdout",
     "output_type": "stream",
     "text": [
      "srun: error: Unable to allocate resources: Invalid generic resource (gres) specification\r\n"
     ]
    }
   ],
   "source": [
    "from IPython.display import Image\n",
    "! srun --gres=station508 python synfire.py\n",
    "Image(filename=\"synfire.png\")"
   ]
  }
 ],
 "metadata": {
  "kernelspec": {
   "display_name": "SpikeyAndDlsDemo",
   "language": "python",
   "name": "spikeyanddlsdemo"
  },
  "language_info": {
   "codemirror_mode": {
    "name": "ipython",
    "version": 2
   },
   "file_extension": ".py",
   "mimetype": "text/x-python",
   "name": "python",
   "nbconvert_exporter": "python",
   "pygments_lexer": "ipython2",
   "version": "2.7.13"
  }
 },
 "nbformat": 4,
 "nbformat_minor": 2
}
