{
 "cells": [
  {
   "cell_type": "code",
   "execution_count": null,
   "metadata": {},
   "outputs": [],
   "source": [
    "%%file latch.py\n",
    "\n",
    "import numpy as np\n",
    "import matplotlib.pyplot as plt\n",
    "\n",
    "import pyNN.hardware.spikey as pynn\n",
    "\n",
    "pynn.setup(mappingOffset=0, calibSynDrivers=False)\n",
    "\n",
    "spike_train_exc = np.array([100.0, 700.0])\n",
    "spike_train_inh = np.array([500.0, 800.0])\n",
    "\n",
    "stim_exc = pynn.Population( 5, pynn.SpikeSourceArray, {'spike_times': spike_train_exc})\n",
    "stim_inh = pynn.Population(10, pynn.SpikeSourceArray, {'spike_times': spike_train_inh})\n",
    "\n",
    "neurons = pynn.Population(5, pynn.IF_facets_hardware1)\n",
    "\n",
    "neurons.record()\n",
    "\n",
    "proj_exc = pynn.Projection(\n",
    "    stim_exc,\n",
    "    neurons,\n",
    "    pynn.AllToAllConnector(weights=15*pynn.minExcWeight()),\n",
    "    target=\"excitatory\"\n",
    ")\n",
    "\n",
    "proj_inh = pynn.Projection(\n",
    "    stim_inh,\n",
    "    neurons,\n",
    "    pynn.AllToAllConnector(weights=15*pynn.minInhWeight()),\n",
    "    target=\"inhibitory\"\n",
    ")\n",
    "\n",
    "proj_recurrent = pynn.Projection(\n",
    "    neurons,\n",
    "    neurons,\n",
    "    pynn.FixedProbabilityConnector(0.8, weights=9*pynn.minExcWeight()),\n",
    "    target=\"excitatory\"\n",
    ")\n",
    "\n",
    "pynn.run(1000.0)\n",
    "\n",
    "spikes = neurons.getSpikes()\n",
    "\n",
    "pynn.end()\n",
    "\n",
    "fig = plt.figure(figsize=(12, 6))\n",
    "ax = fig.gca()\n",
    "\n",
    "for nrn in np.unique(spikes[:,0]):\n",
    "    mask = (spikes[:,0] == nrn)\n",
    "    spike_times = spikes[mask,1]\n",
    "    ax.plot(spike_times, np.ones_like(spike_times) * nrn, \"|\", ms=5)\n",
    "\n",
    "ax.set_xlabel(r\"time [\\si{\\milli\\second}]\")\n",
    "ax.set_ylabel(r\"neuron index\")\n",
    "\n",
    "ax.set_yticks(np.arange(0, 5, 1))\n",
    "\n",
    "fig.savefig(\"latch.png\")"
   ]
  },
  {
   "cell_type": "code",
   "execution_count": null,
   "metadata": {
    "scrolled": false
   },
   "outputs": [],
   "source": [
    "from IPython.display import Image\n",
    "! srun --gres=station508 python latch.py\n",
    "Image(filename=\"latch.png\")"
   ]
  }
 ],
 "metadata": {
  "kernelspec": {
   "display_name": "SpikeyAndDlsDemo",
   "language": "python",
   "name": "spikeyanddlsdemo"
  },
  "language_info": {
   "codemirror_mode": {
    "name": "ipython",
    "version": 2
   },
   "file_extension": ".py",
   "mimetype": "text/x-python",
   "name": "python",
   "nbconvert_exporter": "python",
   "pygments_lexer": "ipython2",
   "version": "2.7.13"
  }
 },
 "nbformat": 4,
 "nbformat_minor": 2
}
